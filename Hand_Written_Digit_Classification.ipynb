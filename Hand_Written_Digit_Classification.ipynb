{
  "nbformat": 4,
  "nbformat_minor": 0,
  "metadata": {
    "colab": {
      "name": "Hand Written Digit Classification.ipynb",
      "provenance": [],
      "collapsed_sections": [
        "o_o9Dncq0byQ",
        "2eIhnRnf3ZUR",
        "b6A5EVm65LAH",
        "9Gm9nksm7YK-",
        "7WJLG60M70EK",
        "uPbxJyfR7-dl"
      ],
      "authorship_tag": "ABX9TyOtPufc0T+JjiWQcx+UXsxh",
      "include_colab_link": true
    },
    "kernelspec": {
      "name": "python3",
      "display_name": "Python 3"
    },
    "language_info": {
      "name": "python"
    }
  },
  "cells": [
    {
      "cell_type": "markdown",
      "metadata": {
        "id": "view-in-github",
        "colab_type": "text"
      },
      "source": [
        "<a href=\"https://colab.research.google.com/github/Tysondgn/ML_Repository/blob/main/Hand_Written_Digit_Classification.ipynb\" target=\"_parent\"><img src=\"https://colab.research.google.com/assets/colab-badge.svg\" alt=\"Open In Colab\"/></a>"
      ]
    },
    {
      "cell_type": "markdown",
      "source": [
        "# **Hand Written Digit Classification**"
      ],
      "metadata": {
        "id": "TgTPyaLti_wM"
      }
    },
    {
      "cell_type": "markdown",
      "source": [
        "##**Import Library**"
      ],
      "metadata": {
        "id": "o_o9Dncq0byQ"
      }
    },
    {
      "cell_type": "code",
      "source": [
        "import pandas as pd\n",
        "import numpy as np\n",
        "import matplotlib.pyplot as plt"
      ],
      "metadata": {
        "id": "K-6Cc5OF0sWI"
      },
      "execution_count": 1,
      "outputs": []
    },
    {
      "cell_type": "markdown",
      "source": [
        "##**Import Data**"
      ],
      "metadata": {
        "id": "4ez38JAT1P7a"
      }
    },
    {
      "cell_type": "code",
      "source": [
        "from sklearn.datasets import load_digits"
      ],
      "metadata": {
        "id": "rEx38wgc1Stw"
      },
      "execution_count": 2,
      "outputs": []
    },
    {
      "cell_type": "code",
      "source": [
        "df = load_digits()"
      ],
      "metadata": {
        "id": "mGU-K7kO1bXQ"
      },
      "execution_count": 3,
      "outputs": []
    },
    {
      "cell_type": "code",
      "source": [
        "_,axes = plt.subplots(nrows=1, ncols=4, figsize=(10, 3))\n",
        "for ax, image, label in zip(axes, df.images, df.target):\n",
        "  ax.set_axis_off()\n",
        "  ax.imshow(image, cmap=plt.cm.gray_r, interpolation=\"nearest\")\n",
        "  ax.set_title(\"Training: %i\" % label)"
      ],
      "metadata": {
        "colab": {
          "base_uri": "https://localhost:8080/",
          "height": 0
        },
        "id": "jjZQLON01sTO",
        "outputId": "a3469a91-5724-4b34-9bbf-be8938a1d217"
      },
      "execution_count": 4,
      "outputs": [
        {
          "output_type": "display_data",
          "data": {
            "text/plain": [
              "<Figure size 720x216 with 4 Axes>"
            ],
            "image/png": "[encoded data removed]"
          },
          "metadata": {
            "needs_background": "light"
          }
        }
      ]
    },
    {
      "cell_type": "markdown",
      "source": [
        "##**Data Preprocessing**"
      ],
      "metadata": {
        "id": "2eIhnRnf3ZUR"
      }
    },
    {
      "cell_type": "code",
      "source": [
        "df.images.shape"
      ],
      "metadata": {
        "colab": {
          "base_uri": "https://localhost:8080/"
        },
        "id": "3UM17bc13jlK",
        "outputId": "a75bf41d-56e4-4de1-cc4d-25a26a58467b"
      },
      "execution_count": 5,
      "outputs": [
        {
          "output_type": "execute_result",
          "data": {
            "text/plain": [
              "(1797, 8, 8)"
            ]
          },
          "metadata": {},
          "execution_count": 5
        }
      ]
    },
    {
      "cell_type": "code",
      "source": [
        "df.images[0]"
      ],
      "metadata": {
        "colab": {
          "base_uri": "https://localhost:8080/"
        },
        "id": "1s_UyTCw3qUg",
        "outputId": "460c8504-5407-43a8-e1f9-3128b32750b3"
      },
      "execution_count": 6,
      "outputs": [
        {
          "output_type": "execute_result",
          "data": {
            "text/plain": [
              "array([[ 0.,  0.,  5., 13.,  9.,  1.,  0.,  0.],\n",
              "       [ 0.,  0., 13., 15., 10., 15.,  5.,  0.],\n",
              "       [ 0.,  3., 15.,  2.,  0., 11.,  8.,  0.],\n",
              "       [ 0.,  4., 12.,  0.,  0.,  8.,  8.,  0.],\n",
              "       [ 0.,  5.,  8.,  0.,  0.,  9.,  8.,  0.],\n",
              "       [ 0.,  4., 11.,  0.,  1., 12.,  7.,  0.],\n",
              "       [ 0.,  2., 14.,  5., 10., 12.,  0.,  0.],\n",
              "       [ 0.,  0.,  6., 13., 10.,  0.,  0.,  0.]])"
            ]
          },
          "metadata": {},
          "execution_count": 6
        }
      ]
    },
    {
      "cell_type": "code",
      "source": [
        "df.images[0].shape"
      ],
      "metadata": {
        "colab": {
          "base_uri": "https://localhost:8080/"
        },
        "id": "zxkYiuBU3uEN",
        "outputId": "a2dbaa95-f181-4f55-9b46-518425d466b8"
      },
      "execution_count": 7,
      "outputs": [
        {
          "output_type": "execute_result",
          "data": {
            "text/plain": [
              "(8, 8)"
            ]
          },
          "metadata": {},
          "execution_count": 7
        }
      ]
    },
    {
      "cell_type": "code",
      "source": [
        "n_samples = len(df.images)\n",
        "data = df.images.reshape((n_samples, -1))"
      ],
      "metadata": {
        "id": "C5Er5L3F363f"
      },
      "execution_count": 8,
      "outputs": []
    },
    {
      "cell_type": "code",
      "source": [
        "data[0]"
      ],
      "metadata": {
        "colab": {
          "base_uri": "https://localhost:8080/"
        },
        "id": "rHkMAER649ZQ",
        "outputId": "25ef69dd-7cf3-48dd-ef09-0e5b5ac9e39c"
      },
      "execution_count": 9,
      "outputs": [
        {
          "output_type": "execute_result",
          "data": {
            "text/plain": [
              "array([ 0.,  0.,  5., 13.,  9.,  1.,  0.,  0.,  0.,  0., 13., 15., 10.,\n",
              "       15.,  5.,  0.,  0.,  3., 15.,  2.,  0., 11.,  8.,  0.,  0.,  4.,\n",
              "       12.,  0.,  0.,  8.,  8.,  0.,  0.,  5.,  8.,  0.,  0.,  9.,  8.,\n",
              "        0.,  0.,  4., 11.,  0.,  1., 12.,  7.,  0.,  0.,  2., 14.,  5.,\n",
              "       10., 12.,  0.,  0.,  0.,  0.,  6., 13., 10.,  0.,  0.,  0.])"
            ]
          },
          "metadata": {},
          "execution_count": 9
        }
      ]
    },
    {
      "cell_type": "code",
      "source": [
        "data[0].shape"
      ],
      "metadata": {
        "colab": {
          "base_uri": "https://localhost:8080/"
        },
        "id": "y9oyyJca4_fq",
        "outputId": "897eb332-c1df-4a1d-a452-a4970c3e2719"
      },
      "execution_count": 10,
      "outputs": [
        {
          "output_type": "execute_result",
          "data": {
            "text/plain": [
              "(64,)"
            ]
          },
          "metadata": {},
          "execution_count": 10
        }
      ]
    },
    {
      "cell_type": "code",
      "source": [
        "data.shape"
      ],
      "metadata": {
        "colab": {
          "base_uri": "https://localhost:8080/"
        },
        "id": "klam3t2w5CB-",
        "outputId": "2ce66dc5-42c1-4e7e-e4ed-212dfae20809"
      },
      "execution_count": 11,
      "outputs": [
        {
          "output_type": "execute_result",
          "data": {
            "text/plain": [
              "(1797, 64)"
            ]
          },
          "metadata": {},
          "execution_count": 11
        }
      ]
    },
    {
      "cell_type": "markdown",
      "source": [
        "##**Scaling Data**"
      ],
      "metadata": {
        "id": "b6A5EVm65LAH"
      }
    },
    {
      "cell_type": "code",
      "source": [
        "data.min()"
      ],
      "metadata": {
        "colab": {
          "base_uri": "https://localhost:8080/"
        },
        "id": "HOPPnGIU5PR_",
        "outputId": "c1590055-dbec-46ff-b84b-135b2a0bb056"
      },
      "execution_count": 12,
      "outputs": [
        {
          "output_type": "execute_result",
          "data": {
            "text/plain": [
              "0.0"
            ]
          },
          "metadata": {},
          "execution_count": 12
        }
      ]
    },
    {
      "cell_type": "code",
      "source": [
        "data.max()"
      ],
      "metadata": {
        "colab": {
          "base_uri": "https://localhost:8080/"
        },
        "id": "Zt_anWOd5y7z",
        "outputId": "83490ba9-869e-4fc1-b86a-2176111e7084"
      },
      "execution_count": 13,
      "outputs": [
        {
          "output_type": "execute_result",
          "data": {
            "text/plain": [
              "16.0"
            ]
          },
          "metadata": {},
          "execution_count": 13
        }
      ]
    },
    {
      "cell_type": "code",
      "source": [
        "data = data/16"
      ],
      "metadata": {
        "id": "8wA8I8o5501A"
      },
      "execution_count": 14,
      "outputs": []
    },
    {
      "cell_type": "code",
      "source": [
        "data.min()"
      ],
      "metadata": {
        "colab": {
          "base_uri": "https://localhost:8080/"
        },
        "id": "ygZtT7xf6G4n",
        "outputId": "39b5a9e5-081e-488d-c1c9-c22d36238889"
      },
      "execution_count": 15,
      "outputs": [
        {
          "output_type": "execute_result",
          "data": {
            "text/plain": [
              "0.0"
            ]
          },
          "metadata": {},
          "execution_count": 15
        }
      ]
    },
    {
      "cell_type": "code",
      "source": [
        "data.max()"
      ],
      "metadata": {
        "colab": {
          "base_uri": "https://localhost:8080/"
        },
        "id": "uwywY2-16IT3",
        "outputId": "638f0ffc-c1a8-4e3b-b595-48d87df30d4f"
      },
      "execution_count": 16,
      "outputs": [
        {
          "output_type": "execute_result",
          "data": {
            "text/plain": [
              "1.0"
            ]
          },
          "metadata": {},
          "execution_count": 16
        }
      ]
    },
    {
      "cell_type": "code",
      "source": [
        "data[0]"
      ],
      "metadata": {
        "colab": {
          "base_uri": "https://localhost:8080/"
        },
        "id": "XxqR09ps6TFJ",
        "outputId": "e8ef611a-a6bb-4852-fd74-b64e59dd2e28"
      },
      "execution_count": 17,
      "outputs": [
        {
          "output_type": "execute_result",
          "data": {
            "text/plain": [
              "array([0.    , 0.    , 0.3125, 0.8125, 0.5625, 0.0625, 0.    , 0.    ,\n",
              "       0.    , 0.    , 0.8125, 0.9375, 0.625 , 0.9375, 0.3125, 0.    ,\n",
              "       0.    , 0.1875, 0.9375, 0.125 , 0.    , 0.6875, 0.5   , 0.    ,\n",
              "       0.    , 0.25  , 0.75  , 0.    , 0.    , 0.5   , 0.5   , 0.    ,\n",
              "       0.    , 0.3125, 0.5   , 0.    , 0.    , 0.5625, 0.5   , 0.    ,\n",
              "       0.    , 0.25  , 0.6875, 0.    , 0.0625, 0.75  , 0.4375, 0.    ,\n",
              "       0.    , 0.125 , 0.875 , 0.3125, 0.625 , 0.75  , 0.    , 0.    ,\n",
              "       0.    , 0.    , 0.375 , 0.8125, 0.625 , 0.    , 0.    , 0.    ])"
            ]
          },
          "metadata": {},
          "execution_count": 17
        }
      ]
    },
    {
      "cell_type": "markdown",
      "source": [
        "##**Train Test Split Data**"
      ],
      "metadata": {
        "id": "1KrAlC4J6cs4"
      }
    },
    {
      "cell_type": "code",
      "source": [
        "from sklearn.model_selection import train_test_split"
      ],
      "metadata": {
        "id": "tsHbp0s-6gyb"
      },
      "execution_count": 18,
      "outputs": []
    },
    {
      "cell_type": "code",
      "source": [
        "X_train, X_test, y_train, y_test = train_test_split(data,df.target, test_size=0.3 , random_state=82529)"
      ],
      "metadata": {
        "id": "NxaKhafa6qCw"
      },
      "execution_count": 19,
      "outputs": []
    },
    {
      "cell_type": "code",
      "source": [
        "X_train.shape, X_test.shape, y_train.shape, y_test.shape"
      ],
      "metadata": {
        "colab": {
          "base_uri": "https://localhost:8080/"
        },
        "id": "KAvre1ni7PhC",
        "outputId": "ce3b21aa-d094-4f01-9c43-9c0358d40c8d"
      },
      "execution_count": 20,
      "outputs": [
        {
          "output_type": "execute_result",
          "data": {
            "text/plain": [
              "((1257, 64), (540, 64), (1257,), (540,))"
            ]
          },
          "metadata": {},
          "execution_count": 20
        }
      ]
    },
    {
      "cell_type": "markdown",
      "source": [
        "##**Random Forest Model**"
      ],
      "metadata": {
        "id": "9Gm9nksm7YK-"
      }
    },
    {
      "cell_type": "code",
      "source": [
        "from sklearn.ensemble import RandomForestClassifier"
      ],
      "metadata": {
        "id": "ev4UQnZF7drl"
      },
      "execution_count": 21,
      "outputs": []
    },
    {
      "cell_type": "code",
      "source": [
        "rf = RandomForestClassifier()"
      ],
      "metadata": {
        "id": "9SaQ5xXr7nx5"
      },
      "execution_count": 22,
      "outputs": []
    },
    {
      "cell_type": "code",
      "source": [
        "rf.fit(X_train, y_train)"
      ],
      "metadata": {
        "colab": {
          "base_uri": "https://localhost:8080/"
        },
        "id": "Z7io9wtp7r2r",
        "outputId": "5746598b-5c4f-4f04-e24d-2bd9fe5864f9"
      },
      "execution_count": 23,
      "outputs": [
        {
          "output_type": "execute_result",
          "data": {
            "text/plain": [
              "RandomForestClassifier()"
            ]
          },
          "metadata": {},
          "execution_count": 23
        }
      ]
    },
    {
      "cell_type": "markdown",
      "source": [
        "##**Predict Test Data**"
      ],
      "metadata": {
        "id": "7WJLG60M70EK"
      }
    },
    {
      "cell_type": "code",
      "source": [
        "y_pred = rf.predict(X_test)"
      ],
      "metadata": {
        "id": "cvDChtmg73Vk"
      },
      "execution_count": 24,
      "outputs": []
    },
    {
      "cell_type": "code",
      "source": [
        "y_pred"
      ],
      "metadata": {
        "colab": {
          "base_uri": "https://localhost:8080/"
        },
        "id": "HzopnHSQ77M7",
        "outputId": "478b4880-2de8-4bee-a38d-b0b82131d63b"
      },
      "execution_count": 25,
      "outputs": [
        {
          "output_type": "execute_result",
          "data": {
            "text/plain": [
              "array([4, 4, 6, 0, 7, 8, 6, 8, 6, 7, 5, 4, 4, 3, 9, 9, 3, 3, 4, 0, 7, 5,\n",
              "       1, 6, 1, 9, 2, 7, 5, 2, 3, 9, 0, 3, 1, 0, 1, 6, 5, 7, 2, 1, 8, 0,\n",
              "       2, 8, 0, 2, 3, 5, 4, 9, 0, 3, 3, 0, 8, 6, 0, 4, 0, 1, 9, 7, 5, 1,\n",
              "       1, 8, 3, 2, 5, 5, 4, 0, 8, 8, 1, 4, 3, 8, 2, 3, 1, 7, 7, 1, 9, 5,\n",
              "       9, 6, 1, 7, 0, 9, 9, 0, 0, 7, 6, 7, 6, 6, 7, 1, 6, 2, 7, 5, 5, 3,\n",
              "       2, 4, 7, 3, 1, 9, 1, 6, 7, 6, 1, 6, 7, 9, 0, 7, 0, 4, 8, 5, 3, 4,\n",
              "       6, 2, 7, 0, 3, 9, 9, 9, 8, 3, 2, 2, 8, 8, 8, 9, 0, 1, 0, 2, 9, 8,\n",
              "       1, 3, 9, 8, 4, 9, 2, 9, 5, 5, 9, 4, 1, 4, 1, 3, 1, 6, 8, 5, 4, 1,\n",
              "       3, 6, 6, 4, 8, 0, 3, 7, 4, 6, 9, 1, 2, 5, 5, 2, 3, 7, 6, 5, 7, 4,\n",
              "       3, 7, 8, 1, 0, 1, 2, 4, 0, 7, 1, 8, 1, 4, 5, 3, 1, 6, 4, 0, 8, 7,\n",
              "       2, 9, 1, 6, 2, 3, 2, 8, 8, 7, 9, 7, 9, 3, 2, 7, 5, 2, 3, 2, 4, 5,\n",
              "       1, 6, 1, 5, 8, 9, 6, 4, 3, 6, 3, 7, 3, 0, 1, 5, 7, 8, 7, 1, 6, 0,\n",
              "       6, 9, 8, 4, 2, 1, 6, 9, 4, 3, 8, 8, 7, 5, 2, 6, 3, 7, 5, 1, 9, 7,\n",
              "       3, 1, 8, 7, 2, 9, 2, 1, 6, 2, 7, 3, 7, 4, 9, 4, 1, 0, 0, 9, 4, 2,\n",
              "       3, 7, 7, 0, 5, 7, 3, 5, 5, 7, 2, 4, 8, 0, 0, 7, 8, 4, 2, 5, 5, 4,\n",
              "       7, 0, 7, 5, 2, 0, 2, 8, 4, 3, 6, 9, 1, 1, 0, 3, 4, 3, 0, 0, 1, 0,\n",
              "       3, 4, 6, 0, 3, 4, 0, 9, 4, 6, 8, 9, 7, 2, 4, 8, 7, 6, 2, 3, 5, 3,\n",
              "       7, 1, 4, 4, 2, 1, 2, 7, 3, 5, 7, 6, 2, 1, 4, 7, 4, 6, 6, 2, 2, 6,\n",
              "       6, 4, 8, 2, 1, 5, 4, 8, 0, 6, 6, 7, 0, 6, 8, 7, 4, 8, 2, 9, 8, 3,\n",
              "       8, 7, 4, 4, 9, 6, 3, 3, 3, 4, 4, 3, 6, 1, 9, 7, 1, 0, 9, 3, 0, 2,\n",
              "       9, 0, 0, 0, 7, 5, 8, 4, 7, 1, 9, 9, 8, 2, 2, 4, 3, 1, 2, 0, 5, 5,\n",
              "       9, 5, 6, 6, 6, 3, 1, 8, 5, 9, 2, 2, 6, 6, 9, 0, 0, 7, 6, 3, 0, 2,\n",
              "       9, 8, 8, 1, 2, 5, 9, 9, 2, 6, 0, 3, 7, 4, 8, 2, 5, 7, 5, 9, 9, 6,\n",
              "       1, 2, 3, 1, 1, 5, 6, 7, 5, 7, 8, 0, 6, 3, 8, 8, 1, 9, 9, 7, 8, 1,\n",
              "       2, 5, 6, 1, 7, 3, 9, 2, 1, 2, 7, 2])"
            ]
          },
          "metadata": {},
          "execution_count": 25
        }
      ]
    },
    {
      "cell_type": "markdown",
      "source": [
        "##**Model Accuracy**"
      ],
      "metadata": {
        "id": "uPbxJyfR7-dl"
      }
    },
    {
      "cell_type": "code",
      "source": [
        "from sklearn.metrics import confusion_matrix, classification_report"
      ],
      "metadata": {
        "id": "-6CA2Yo78zww"
      },
      "execution_count": 26,
      "outputs": []
    },
    {
      "cell_type": "code",
      "source": [
        "confusion_matrix(y_test, y_pred)"
      ],
      "metadata": {
        "colab": {
          "base_uri": "https://localhost:8080/"
        },
        "id": "0fZBDYEQ9DJk",
        "outputId": "e1be14b7-4b3d-413e-d03c-aca3e81d6318"
      },
      "execution_count": 27,
      "outputs": [
        {
          "output_type": "execute_result",
          "data": {
            "text/plain": [
              "array([[49,  0,  0,  0,  0,  0,  0,  0,  0,  0],\n",
              "       [ 0, 56,  0,  0,  0,  0,  0,  0,  0,  0],\n",
              "       [ 1,  0, 57,  0,  0,  0,  0,  0,  0,  0],\n",
              "       [ 0,  0,  0, 54,  0,  0,  0,  0,  0,  1],\n",
              "       [ 0,  0,  0,  0, 52,  0,  0,  1,  0,  1],\n",
              "       [ 0,  0,  0,  0,  0, 45,  0,  0,  0,  0],\n",
              "       [ 1,  0,  0,  0,  0,  0, 55,  0,  0,  0],\n",
              "       [ 0,  0,  0,  0,  0,  0,  0, 58,  0,  0],\n",
              "       [ 0,  2,  0,  0,  0,  0,  0,  0, 50,  0],\n",
              "       [ 0,  0,  0,  2,  0,  0,  0,  4,  0, 51]])"
            ]
          },
          "metadata": {},
          "execution_count": 27
        }
      ]
    },
    {
      "cell_type": "code",
      "source": [
        "print(classification_report(y_test, y_pred))"
      ],
      "metadata": {
        "colab": {
          "base_uri": "https://localhost:8080/"
        },
        "id": "Nzn_YjAw9Iba",
        "outputId": "42d15fb0-2254-46c0-c3c6-1fa3d13d3737"
      },
      "execution_count": 28,
      "outputs": [
        {
          "output_type": "stream",
          "name": "stdout",
          "text": [
            "              precision    recall  f1-score   support\n",
            "\n",
            "           0       0.96      1.00      0.98        49\n",
            "           1       0.97      1.00      0.98        56\n",
            "           2       1.00      0.98      0.99        58\n",
            "           3       0.96      0.98      0.97        55\n",
            "           4       1.00      0.96      0.98        54\n",
            "           5       1.00      1.00      1.00        45\n",
            "           6       1.00      0.98      0.99        56\n",
            "           7       0.92      1.00      0.96        58\n",
            "           8       1.00      0.96      0.98        52\n",
            "           9       0.96      0.89      0.93        57\n",
            "\n",
            "    accuracy                           0.98       540\n",
            "   macro avg       0.98      0.98      0.98       540\n",
            "weighted avg       0.98      0.98      0.98       540\n",
            "\n"
          ]
        }
      ]
    }
  ]
}